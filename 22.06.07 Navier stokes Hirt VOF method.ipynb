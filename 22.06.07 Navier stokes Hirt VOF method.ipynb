{
 "cells": [
  {
   "cell_type": "code",
   "execution_count": 1,
   "id": "8f6ea07f-f858-48a6-8479-316d0730e860",
   "metadata": {},
   "outputs": [],
   "source": [
    "import numpy as np\n",
    "import matplotlib.pyplot as plt"
   ]
  },
  {
   "cell_type": "code",
   "execution_count": 2,
   "id": "04c3b3ac-5e25-4dec-82a2-ee3ee2d8e706",
   "metadata": {},
   "outputs": [],
   "source": [
    "L_x = 100\n",
    "g = 9.81\n",
    "H = 100\n",
    "\n",
    "N_x = 301\n",
    "dx = L_x/(N_x - 1)\n",
    "dt = 0.002\n",
    "N_t = 50000\n",
    "err = 1e-4\n",
    "x = np.linspace(0,L_x,N_x)\n",
    "h = np.zeros(N_x)\n",
    "u = np.zeros(N_x)\n",
    "D = 100\n",
    "slope = lambda x: 0.7*(x>700)*(x-700)\n",
    "# slope = lambda x: 0.2*x\n",
    "\n",
    "b = slope(x)\n",
    "H = D - b\n",
    "b_ = np.zeros(N_x)\n",
    "# b = np.zeros(N_x)\n",
    "# h = 10*np.exp(-((x)**2/(2*(0.05E+3)**2)))\n",
    "h[int(1*N_x/16):int(2*N_x/8)] = 50\n",
    "nu = 0.01"
   ]
  },
  {
   "cell_type": "code",
   "execution_count": 3,
   "id": "4616dd39-a6aa-4493-acfb-d8087427248c",
   "metadata": {},
   "outputs": [
    {
     "data": {
      "image/png": "[encoded data removed]",
      "text/plain": [
       "<Figure size 432x288 with 1 Axes>"
      ]
     },
     "metadata": {
      "needs_background": "light"
     },
     "output_type": "display_data"
    },
    {
     "data": {
      "image/png": "[encoded data removed]",
      "text/plain": [
       "<Figure size 432x288 with 2 Axes>"
      ]
     },
     "metadata": {},
     "output_type": "display_data"
    }
   ],
   "source": [
    "h = np.ones(N_x)*0.5\n",
    "\n",
    "h[:300]= 2\n",
    "slope = lambda x,b,L: (x>=b)*(x-b)*(L/(L_x-b))\n",
    "dam  = lambda x,a,b,L: ((x>=a)&(x<=b))*L\n",
    "\n",
    "u = np.zeros(N_x)\n",
    "z = np.ones(N_x)*0.5\n",
    "s = slope(x,90,2)\n",
    "d = dam(x,20,30,3)\n",
    "z = z\n",
    "z_ = np.zeros(N_x)\n",
    "\n",
    "h = np.where(h>=z,h-z,0)\n",
    "plt.plot(h)\n",
    "plt.show()\n",
    "# z[150:200]=0\n",
    "fig, (axh,axu) = plt.subplots(2, 1,facecolor ='white')\n",
    "line_u,=axu.plot(x,u)\n",
    "line_h,=axh.plot(x,h+z)\n",
    "fill_=axh.fill_between(x,z,z_,color ='tab:orange')"
   ]
  },
  {
   "cell_type": "code",
   "execution_count": 4,
   "id": "525e380d-945d-4414-a44b-78c2948fbdef",
   "metadata": {},
   "outputs": [],
   "source": [
    "N_x = 200-1 # for Fx,and Px\n",
    "N_z = 200-1  # for Fz,and Pz\n",
    "\n",
    "U_x = N_x + 2 \n",
    "U_z = N_z\n",
    "\n",
    "W_x = N_x\n",
    "W_z = N_z + 2\n",
    "\n",
    "L_x = 100\n",
    "L_z = 100\n",
    "\n",
    "# U = np.zeros((U_x,U_y+2)) # N_x+2, N_y    , N_x [0,last] =0,and if you N_y +2 for convinient, so -1, max+ 1 also 0 for BC\n",
    "# V = np.zeros((V_x+2,V_y)) # N_x  , N_y + 2, N_y [0,last] =0,and if you N_x +2 for convinient, so -1, max+ 1 also 0 for BC\n",
    "\n",
    "\n",
    "# x = np.linspace(0,L_x,U_x,endpoint=True) # contain the boundary, make the all area\n",
    "# y = np.linspace(0,L_y,V_y,endpoint=True) # contain the boundary, make the all area\n",
    "# X,Y = np.meshgrid(x,y,indexing='ij')\n",
    "\n"
   ]
  },
  {
   "cell_type": "code",
   "execution_count": 10,
   "id": "6d00a672",
   "metadata": {},
   "outputs": [
    {
     "data": {
      "image/png": "[encoded data removed]",
      "text/plain": [
       "<Figure size 432x288 with 4 Axes>"
      ]
     },
     "metadata": {
      "needs_background": "light"
     },
     "output_type": "display_data"
    }
   ],
   "source": [
    "U = np.zeros((U_x,U_z+2)) # N_x+2, N_z    , N_x [0,last] =0,and if you N_z +2 for convinient, so -1, max+ 1 also 0 for BC\n",
    "W = np.zeros((W_x+2,W_z)) # N_x  , N_z + 2, N_z [0,last] =0,and if you N_x +2 for convinient, so -1, max+ 1 also 0 for BC\n",
    "\n",
    "\n",
    "x = np.linspace(0,L_x,U_x,endpoint=True) # contain the boundary, make the all area\n",
    "z = np.linspace(0,L_z,W_z,endpoint=True) # contain the boundary, make the all area\n",
    "X,Z = np.meshgrid(x,z,indexing='ij')\n",
    "dx, dz = L_x/(N_x-1), L_z/(N_z-1)\n",
    "slope = lambda x,b,L: (x>=b)*(x-b)*(L/(L_x-b))\n",
    "B_X = slope(X,10,20)\n",
    "# plt.plot(x,slope(x,0,20))\n",
    "height = lambda x,b,h1,h2: (x<=b)*(h1) + (x>b)*(h2)\n",
    "H_X = height(X,10,30,20)\n",
    "BC = np.where(((X==0)|(X == L_x)|(Z==0)|(Z==L_z)))\n",
    "FC = np.where(((X==0)|(Z==0)|(Z<=H_X)|(Z<=B_X)))\n",
    "FC_not = np.where(~((X==0)|(X == L_x)|(Z==0)|(Z==L_z)|(Z<=H_X)|(Z<=B_X)))\n",
    "TC = np.where(((X==0)|(Z==0)|(Z<=B_X))|(((Z==L_z)|(X==L_x)))) # Topology condition\n",
    "\n",
    "HC = np.where((Z<=H_X)&(Z>B_X))\n",
    "\n",
    "# plt.imshow(x, height(x,10,10,20))\n",
    "# plt.imshow(H_x.T,vmin=0, vmax= 100)\n",
    "F = np.zeros_like(U)\n",
    "F[FC] = 1\n",
    "# F[HC] = 1\n",
    "plt.subplot(121)\n",
    "plt.imshow(F.T,extent=[0,L_x,0,L_z],origin='lower')\n",
    "plt.colorbar(orientation=\"horizontal\")\n",
    "# set pressure by height\n",
    "P = np.zeros_like(U)\n",
    "P = -g*dz*0.1*P\n",
    "P[HC] = -g*dz\n",
    "# P[TC_not] = 0\n",
    "for i in range(N_z-1,0,-1):\n",
    "\n",
    "    P[:,i-1]+=P[:,i]\n",
    "P[TC] = 0\n",
    "plt.subplot(122)\n",
    "plt.imshow(P.T[1:,1:],extent=[0,L_x,0,L_z],origin='lower')\n",
    "plt.colorbar(orientation=\"horizontal\")\n",
    "plt.tight_layout()"
   ]
  },
  {
   "cell_type": "code",
   "execution_count": 12,
   "id": "bb2188c0",
   "metadata": {},
   "outputs": [
    {
     "data": {
      "image/png": "[encoded data removed]",
      "text/plain": [
       "<Figure size 432x288 with 4 Axes>"
      ]
     },
     "metadata": {
      "needs_background": "light"
     },
     "output_type": "display_data"
    }
   ],
   "source": [
    "# set pressure by height\n",
    "\n",
    "F = np.zeros_like(U)\n",
    "F[TC] = 1\n",
    "F[HC] = 1\n",
    "# BC = np.where(Y<B_X)\n",
    "# U[BC] = 0\n",
    "plt.subplot(121)\n",
    "plt.imshow(F.T,extent=[0,L_x,0,L_z],origin='lower')\n",
    "plt.colorbar(orientation=\"horizontal\")\n",
    "# set pressure by height\n",
    "P = np.zeros_like(U)\n",
    "P[HC] = -g*dz\n",
    "# P[TC_not] = 0\n",
    "for i in range(N_z-1,-1,-1):P[:,i-1]+=P[:,i]\n",
    "P[TC] = 0\n",
    "plt.subplot(122)\n",
    "plt.imshow(P.T,extent=[0,L_x,0,L_z],origin='lower')\n",
    "plt.colorbar(orientation=\"horizontal\")\n",
    "plt.tight_layout()"
   ]
  },
  {
   "cell_type": "code",
   "execution_count": 13,
   "id": "262e2d7c",
   "metadata": {},
   "outputs": [],
   "source": [
    "from numba import jit"
   ]
  },
  {
   "cell_type": "code",
   "execution_count": 14,
   "id": "161daf48",
   "metadata": {},
   "outputs": [],
   "source": [
    "def padding_2D(UC,axis='x',HOW ='edge'):\n",
    "    if axis == 'x':\n",
    "        if HOW == 'constant':\n",
    "            U_pad = np.pad(UC,((1,1),(0,0)),'constant',constant_values = 0)\n",
    "        else:\n",
    "            U_pad = np.pad(UC,((1,1),(0,0)),'edge')\n",
    "        UW = U_pad[:-2,:]\n",
    "        UE = U_pad[2:,:]\n",
    "        return UW,UC,UE\n",
    "    if axis == 'z':\n",
    "        if HOW == 'constant':\n",
    "            U_pad = np.pad(UC,((0,0),(1,1)),'constant',constant_values = 0)\n",
    "        else:\n",
    "            U_pad = np.pad(UC,((0,0),(1,1)),'edge')\n",
    "        UN = U_pad[:,2:]\n",
    "        US = U_pad[:,:-2]\n",
    "        return US,UC,UN\n",
    "\n",
    "\n",
    "def set_dt(U,W,dx,dz,dt,c_num,err=1e-5):\n",
    "    dx_u = dx/np.max(U)\n",
    "    dz_w = dz/np.max(W)\n",
    "    newdt = min(c_num*dx_u,c_num*dz_w,dt)\n",
    "    newdt = max(newdt,err)\n",
    "    return newdt\n",
    "\n",
    "def NS_solver(U,W,P,F,dx,dz,dt,nu,beta0=1.7,c_num = 0.7,g=g):\n",
    "\n",
    "    # UC[TC] = 0\n",
    "    # WC[TC] = 0\n",
    "    \n",
    "    PN = P.copy()\n",
    "    UW,UC,UE = padding_2D(U.copy(),'x','constant')\n",
    "    US,UC,UN = padding_2D(U.copy(),'z','constant')\n",
    "    WW,WC,WE = padding_2D(W.copy(),'x','constant')\n",
    "    WS,WC,WN = padding_2D(W.copy(),'z','constant')\n",
    "    \n",
    "    UiC = (UC + UW)/2\n",
    "    UiCE = (UE + UC)/2\n",
    "    WiC = (WC + WS)/2\n",
    "    WiCN = (WN + WC)/2\n",
    "    UUup = np.where(UiC>=0,UW,UC)\n",
    "    UUupE = np.where(UiCE>=0,UC,UE)\n",
    "    \n",
    "    FUX = (UiCE*UUupE - UiC*UUup)*dx\n",
    "    \n",
    "    UWup = np.where(WiC>=0,US,UC)\n",
    "    UWupN = np.where(WiCN>=0,UC,UN)\n",
    "    \n",
    "    FUZ = (WiCN*UWupN-WiC*UWup)*dz\n",
    "    \n",
    "\n",
    "    WUup = np.where(UiC>=0,WW,WC)\n",
    "    WUupE = np.where(UiCE>=0,WC,WE)\n",
    "    \n",
    "    FWX = (UiCE*WUupE - UiC*WUup)*dx\n",
    "    \n",
    "    Wup = np.where(WiC>=0,WS,WC)\n",
    "    WupN = np.where(UiCE>=0,WC,WN)\n",
    "    \n",
    "    FWZ = (WiCN*WupN-WiC*Wup)*dz\n",
    "    \n",
    "    VISX = nu*((1/(dx*dx))*(UE - 2*UC + UN) + (1/(dz*dz))*(UN - 2*UC + UW))\n",
    "    VISZ = nu*((1/(dx*dx))*(WE - 2*WC + WN) + (1/(dz*dz))*(WN - 2*WC + WW))\n",
    "    \n",
    "    PW,PC,PE = padding_2D(P.copy(),'x','constant')\n",
    "    PS,PC,PN = padding_2D(P.copy(),'z','constant')\n",
    "    PX = (PC - PW)/dx\n",
    "    PZ = (PC - PS)/dz\n",
    "    \n",
    "    U = UC + dt*(-PX - FUX - FUZ + VISX) \n",
    "    W = WC + dt*(-PZ - FWX - FWZ + VISZ - g) \n",
    "    \n",
    "    # UW,UC,UE = padding_2D(U.copy(),'x','constant')\n",
    "    # WS,WC,WN = padding_2D(W.copy(),'z','constant')\n",
    "    # D = (-(1/dx)*(UC - UW) + (1/dz)*(WC-WS))\n",
    "    # beta = beta0/(2*dt*(1/(dx*dx) + 1/(dz*dz)))\n",
    "    # dP = beta*D\n",
    "    # dPW,dPC,dPE = padding_2D(dP,'x','constant')\n",
    "    # dPS,dPC,dPN = padding_2D(dP,'z','constant')\n",
    "    # P = PN+dP\n",
    "    # # P[TC] = 0\n",
    "    # U = UC + (dt/dx)*(dPC - dPW)\n",
    "    # W = WC + (dt/dz)*(dPC - dPS)\n",
    "    \n",
    "    new_dt = set_dt(U,W,dx,dz,dt,c_num)\n",
    "    \n",
    "    P[TC] = 0\n",
    "    U[TC] = 0\n",
    "    W[TC] = 0\n",
    "    # U[TC]=-U[TC[0],TC[1]+1] \n",
    "\n",
    "    # W[TC]=-W[TC[0]+1,TC[1]] \n",
    "    return U,W,P,new_dt\n",
    "    "
   ]
  },
  {
   "cell_type": "code",
   "execution_count": 15,
   "id": "c66c3d83-0d1b-41dd-9479-75db5402ba49",
   "metadata": {},
   "outputs": [
    {
     "data": {
      "text/plain": [
       "<matplotlib.image.AxesImage at 0x2197e4ab190>"
      ]
     },
     "execution_count": 15,
     "metadata": {},
     "output_type": "execute_result"
    },
    {
     "data": {
      "image/png": "[encoded data removed]",
      "text/plain": [
       "<Figure size 432x288 with 1 Axes>"
      ]
     },
     "metadata": {
      "needs_background": "light"
     },
     "output_type": "display_data"
    }
   ],
   "source": [
    "UW,UC,UE = padding_2D(U.copy(),'x')\n",
    "WS,WC,WN = padding_2D(W.copy(),'z')\n",
    "PN = P.copy()\n",
    "D = (-(1/dx)*(UC - UW) + (1/dz)*(WC-WS))\n",
    "beta0 = 1.7\n",
    "beta = beta0/(2*dt*(1/(dx*dx) + 1/(dz*dz)))\n",
    "dP = beta*D\n",
    "plt.imshow((PN).T, origin='lower')"
   ]
  },
  {
   "cell_type": "code",
   "execution_count": 19,
   "id": "d280bd0c-6f3c-4695-86c7-7cc82930023f",
   "metadata": {},
   "outputs": [
    {
     "data": {
      "text/plain": [
       "<matplotlib.colorbar.Colorbar at 0x2197f849000>"
      ]
     },
     "execution_count": 19,
     "metadata": {},
     "output_type": "execute_result"
    },
    {
     "data": {
      "image/png": "[encoded data removed]",
      "text/plain": [
       "<Figure size 1080x360 with 6 Axes>"
      ]
     },
     "metadata": {
      "needs_background": "light"
     },
     "output_type": "display_data"
    }
   ],
   "source": [
    "Unew,Wnew,Pnew, newdt = NS_solver(U,W,P,F,dx,dz,dt,nu,1e-6,c_num=0.1)\n",
    "\n",
    "plt.figure(figsize=(15,5))\n",
    "plt.subplot(131)\n",
    "plt.imshow(Unew.T,origin='lower')\n",
    "plt.colorbar(orientation=\"horizontal\")\n",
    "plt.subplot(132)\n",
    "plt.imshow(Wnew.T,origin='lower')\n",
    "plt.colorbar(orientation=\"horizontal\")\n",
    "plt.subplot(133)\n",
    "plt.imshow(Pnew.T,origin='lower')\n",
    "plt.colorbar(orientation=\"horizontal\")"
   ]
  },
  {
   "cell_type": "code",
   "execution_count": 20,
   "id": "0b673626",
   "metadata": {},
   "outputs": [],
   "source": [
    "T_list =[]"
   ]
  },
  {
   "cell_type": "code",
   "execution_count": 22,
   "id": "6ed3bbc8-1b44-4959-833c-d327ab255f58",
   "metadata": {},
   "outputs": [
    {
     "name": "stderr",
     "output_type": "stream",
     "text": [
      "C:\\Users\\kim9y\\AppData\\Local\\Temp\\ipykernel_35004\\3377654964.py:61: RuntimeWarning: overflow encountered in multiply\n",
      "  FWZ = (WiCN*WupN-WiC*Wup)*dz\n",
      "C:\\Users\\kim9y\\AppData\\Local\\Temp\\ipykernel_35004\\3377654964.py:61: RuntimeWarning: invalid value encountered in subtract\n",
      "  FWZ = (WiCN*WupN-WiC*Wup)*dz\n",
      "C:\\Users\\kim9y\\AppData\\Local\\Temp\\ipykernel_35004\\3377654964.py:40: RuntimeWarning: invalid value encountered in add\n",
      "  WiC = (WC + WS)/2\n",
      "C:\\Users\\kim9y\\AppData\\Local\\Temp\\ipykernel_35004\\3377654964.py:41: RuntimeWarning: invalid value encountered in add\n",
      "  WiCN = (WN + WC)/2\n",
      "C:\\Users\\kim9y\\AppData\\Local\\Temp\\ipykernel_35004\\3377654964.py:50: RuntimeWarning: invalid value encountered in multiply\n",
      "  FUZ = (WiCN*UWupN-WiC*UWup)*dz\n",
      "C:\\Users\\kim9y\\AppData\\Local\\Temp\\ipykernel_35004\\3377654964.py:56: RuntimeWarning: invalid value encountered in multiply\n",
      "  FWX = (UiCE*WUupE - UiC*WUup)*dx\n",
      "C:\\Users\\kim9y\\AppData\\Local\\Temp\\ipykernel_35004\\3377654964.py:61: RuntimeWarning: invalid value encountered in multiply\n",
      "  FWZ = (WiCN*WupN-WiC*Wup)*dz\n"
     ]
    },
    {
     "data": {
      "text/plain": [
       "<matplotlib.colorbar.Colorbar at 0x2197fcbc430>"
      ]
     },
     "execution_count": 22,
     "metadata": {},
     "output_type": "execute_result"
    },
    {
     "data": {
      "image/png": "[encoded data removed]",
      "text/plain": [
       "<Figure size 1080x360 with 6 Axes>"
      ]
     },
     "metadata": {
      "needs_background": "light"
     },
     "output_type": "display_data"
    }
   ],
   "source": [
    "for i in range(1000):\n",
    "    T_list.append(newdt)\n",
    "    Unew,Wnew,Pnew, newdt = NS_solver(Unew,Wnew,Pnew,F,dx,dz, newdt,nu,1e-6,c_num=0.1)\n",
    "\n",
    "plt.figure(figsize=(15,5))\n",
    "plt.subplot(131)\n",
    "plt.imshow(Unew.T,origin='lower')\n",
    "plt.colorbar(orientation=\"horizontal\")\n",
    "plt.subplot(132)\n",
    "plt.imshow(Wnew.T,origin='lower')\n",
    "plt.colorbar(orientation=\"horizontal\")\n",
    "plt.subplot(133)\n",
    "plt.imshow(Pnew.T,origin='lower')\n",
    "plt.colorbar(orientation=\"horizontal\")\n"
   ]
  },
  {
   "cell_type": "code",
   "execution_count": null,
   "id": "e6026735",
   "metadata": {},
   "outputs": [],
   "source": [
    "plt.plot(np.cumsum(T_list))"
   ]
  },
  {
   "cell_type": "code",
   "execution_count": 24,
   "id": "3dbf08ee",
   "metadata": {},
   "outputs": [],
   "source": [
    "N_x = 51 # for Fx,and Px\n",
    "N_z = 51  # for Fz,and Pz\n",
    "\n",
    "U_x = N_x  \n",
    "U_z = N_z\n",
    "\n",
    "W_x = N_x\n",
    "W_z = N_z \n",
    "\n",
    "L_x = 100\n",
    "L_z = 50"
   ]
  },
  {
   "cell_type": "code",
   "execution_count": 25,
   "id": "b8f53530",
   "metadata": {},
   "outputs": [
    {
     "data": {
      "image/png": "[encoded data removed]",
      "text/plain": [
       "<Figure size 432x288 with 4 Axes>"
      ]
     },
     "metadata": {
      "needs_background": "light"
     },
     "output_type": "display_data"
    }
   ],
   "source": [
    "U = np.zeros((U_x,U_z)) # N_x+2, N_z    , N_x [0,last] =0,and if you N_z +2 for convinient, so -1, max+ 1 also 0 for BC\n",
    "W = np.zeros((W_x,W_z)) # N_x  , N_z + 2, N_z [0,last] =0,and if you N_x +2 for convinient, so -1, max+ 1 also 0 for BC\n",
    "\n",
    "\n",
    "x = np.linspace(0,L_x,U_x,endpoint=True) # contain the boundary, make the all area\n",
    "z = np.linspace(0,L_z,W_z,endpoint=True) # contain the boundary, make the all area\n",
    "X,Z = np.meshgrid(x,z,indexing='ij')\n",
    "dx, dz = L_x/(N_x-1), L_z/(N_z-1)\n",
    "slope = lambda x,b,L: (x>=b)*(x-b)*(L/(L_x-b))\n",
    "B_X = slope(X,0,0)\n",
    "# plt.plot(x,slope(x,0,20))\n",
    "height = lambda x,b,h1,h2: (x<=b)*(h1) + (x>b)*(h2)\n",
    "H_X = height(X,10,30,20)\n",
    "BC = np.where(((X==0)|(X == L_x)|(Z==0)|(Z==L_z)))\n",
    "FC = np.where(((X==0)|(Z==0)|(Z<=H_X)|(Z<=B_X)))\n",
    "FC_not = np.where(~((X==0)|(X == L_x)|(Z==0)|(Z==L_z)|(Z<=H_X)|(Z<=B_X)))\n",
    "TC = np.where(((X==0)|(Z==0)|(Z<=B_X))&(~((Z==L_z)|(X==L_x)))) # Topology condition\n",
    "\n",
    "HC = np.where((Z<=H_X)&(Z>B_X))\n",
    "\n",
    "# plt.imshow(x, height(x,10,10,20))\n",
    "# plt.imshow(H_x.T,vmin=0, vmax= 100)\n",
    "F = np.zeros_like(U)\n",
    "F[FC] = 1\n",
    "# F[HC] = 1\n",
    "plt.subplot(121)\n",
    "plt.imshow(F.T,extent=[0,L_x,0,L_z],origin='lower')\n",
    "plt.colorbar(orientation=\"horizontal\")\n",
    "# set pressure by height\n",
    "P = np.zeros_like(U) +-g*dz*0.01\n",
    "P[HC] = -g*dz\n",
    "# P[TC_not] = 0\n",
    "for i in range(N_z-1,0,-1):\n",
    "\n",
    "    P[:,i-1]+=P[:,i]\n",
    "P[TC] = 0\n",
    "plt.subplot(122)\n",
    "plt.imshow(P.T[1:,1:],extent=[0,L_x,0,L_z],origin='lower')\n",
    "plt.colorbar(orientation=\"horizontal\")\n",
    "plt.tight_layout()"
   ]
  },
  {
   "cell_type": "code",
   "execution_count": 26,
   "metadata": {},
   "outputs": [
    {
     "data": {
      "text/plain": [
       "<matplotlib.colorbar.Colorbar at 0x2197ff79c60>"
      ]
     },
     "execution_count": 26,
     "metadata": {},
     "output_type": "execute_result"
    },
    {
     "data": {
      "image/png": "[encoded data removed]",
      "text/plain": [
       "<Figure size 432x288 with 2 Axes>"
      ]
     },
     "metadata": {
      "needs_background": "light"
     },
     "output_type": "display_data"
    }
   ],
   "source": [
    "temp = np.zeros_like(U)\n",
    "temp[HC]=1\n",
    "for i in range(N_z-1,0,-1):\n",
    "    temp[:,i-1]+=temp[:,i]\n",
    "temp[TC]=0\n",
    "temp[TC]=-temp[TC[0],TC[1]+1] \n",
    "# temp[TC]=0\n",
    "# temp[TC]=-temp[TC[0]+1,TC[1]] \n",
    "\n",
    "\n",
    "# for i in range(N_z-1,0,-1):\n",
    "#     print(i)\n",
    "#     temp[:,i-1]+=temp[:,i]\n",
    "plt.imshow(temp.T,origin='lower')\n",
    "plt.colorbar()\n"
   ]
  },
  {
   "cell_type": "code",
   "execution_count": 27,
   "id": "765af65b",
   "metadata": {},
   "outputs": [],
   "source": [
    "def set_dt(U,W,dx,dz,dt,c_num,err=1e-5):\n",
    "    dx_u = dx/np.max(U)\n",
    "    dz_w = dz/np.max(W)\n",
    "    newdt = min(c_num*dx_u,c_num*dz_w,dt)\n",
    "    newdt = max(newdt,err)\n",
    "    return newdt"
   ]
  },
  {
   "cell_type": "code",
   "execution_count": 28,
   "id": "15d4a6a8",
   "metadata": {},
   "outputs": [],
   "source": [
    "def NS_solver(U,W,P,F,dt,dx,dz,nu,beta0=1.7,g=9.81,c_num=0.7):\n",
    "    UC = U.copy()\n",
    "    WC = W.copy()\n",
    "    PC = P.copy()\n",
    "    UCpad = np.pad(UC,((0,1),(0,1)),'constant',constant_values=0)\n",
    "    WCpad = np.pad(WC,((0,1),(0,1)),'constant',constant_values=0)\n",
    "    PCpad = np.pad(PC,((0,1),(0,1)),'constant',constant_values=0)\n",
    "    UUin = (UCpad[1:,:-1] + UCpad[:-1,:-1])/2\n",
    "    UWUin = (UCpad[:-1,1:] + UCpad[:-1,:-1])/2\n",
    "    UWWin = (WCpad[1:,:-1] + WCpad[:-1,:-1])/2\n",
    "    UU = (1/dx)*(((UUin[1:,:])**2-(UUin[:-1,:]))**2)[:,1:]\n",
    "    UW = (1/dz)*((((UWWin*UWUin)[:,1:])**2-((UWWin*UWUin)[:,:-1])**2))[1:,:]\n",
    "    PU = (1/dx)*((PCpad[1:,:-1]-PCpad[:-1,:-1]))[1:,1:]\n",
    "    VISUX = (nu/(dx*dx))*(UCpad[2:,:-1]-2*UCpad[1:-1,:-1]+UCpad[:-2,:-1])[:,1:]\n",
    "    VISUZ = (nu/(dz*dz))*(UCpad[:-1,2:]-2*UCpad[:-1,1:-1]+UCpad[:-1,:-2])[1:,:]\n",
    "    \n",
    "    WWin = (WCpad[:-1,1:] + WCpad[:-1,:-1])/2\n",
    "    WUUin = (UCpad[:-1,1:] + UCpad[:-1,:-1])/2\n",
    "    WUWin = (WCpad[1:,:-1] + WCpad[:-1,:-1])/2\n",
    "    WU = (1/dx)*((((UWWin*UWUin)[1:,:])**2-((UWWin*UWUin)[:-1,:])**2))[:,1:]\n",
    "    WW = (1/dx)*(((WWin[:,1:])**2-(WWin[:,:-1]))**2)[1:,:]\n",
    "    PW = (1/dz)*((PCpad[:-1,1:]-PCpad[:-1,:-1]))[1:,1:]\n",
    "    VISWX = (nu/(dx*dx))*(WCpad[2:,:-1]-2*WCpad[1:-1,:-1]+WCpad[:-2,:-1])[:,1:]\n",
    "    VISWZ = (nu/(dz*dz))*(WCpad[:-1,2:]-2*WCpad[:-1,1:-1]+WCpad[:-1,:-2])[1:,:]\n",
    "    \n",
    "    UC[1:,1:]  = UC[1:,1:] + dt*(-UU-UW-PU+VISUX+VISUZ)\n",
    "    WC[1:,1:]  = WC[1:,1:] + dt*(-WW-WU-PW+VISWX+VISWZ-g)\n",
    "    \n",
    "    D = -(1/dx)*(UC[1:,1:]-UC[:-1,1:]) + (1/dz)*(WC[1:,1:]-WC[1:,:-1])\n",
    "    beta = beta0/(2*dt*(1/(dx*dx) + 1/(dz*dz)))\n",
    "    dP = beta*D\n",
    "    dPpad = np.pad(dP,((0,1),(0,1)),'constant',constant_values=0)\n",
    "    UC[1:,1:] = UC[1:,1:] - (dt/dx)*(dPpad[1:,:-1]-dPpad[:-1,:-1])\n",
    "    WC[1:,1:] = WC[1:,1:] - (dt/dz)*(dPpad[:-1,1:]-dPpad[:-1,:-1])\n",
    "    PC[1:,1:] = PC[1:,1:] + dP\n",
    "    \n",
    "    UC[TC]=-UC[TC[0],TC[1]+1] \n",
    "    UC[TC]=0\n",
    "\n",
    "    WC[TC]=-WC[TC[0]+1,TC[1]] \n",
    "    WC[TC]=0\n",
    "    \n",
    "    \n",
    "    dx_u = dx/np.max(np.abs(UC))\n",
    "    dz_w = dz/np.max(np.abs(WC))\n",
    "    dt = min(c_num*dx_u,c_num*dz_w,dt)\n",
    "    dt = max(newdt,1e-8)\n",
    "    return UC,WC,PC,dt\n",
    "    "
   ]
  },
  {
   "cell_type": "code",
   "execution_count": 29,
   "id": "db16e435",
   "metadata": {},
   "outputs": [
    {
     "name": "stdout",
     "output_type": "stream",
     "text": [
      "0.002\n"
     ]
    }
   ],
   "source": [
    "UC = U.copy()\n",
    "WC = W.copy()\n",
    "PC = P.copy()\n",
    "UCpad = np.pad(UC,((0,1),(0,1)),'constant',constant_values=0)\n",
    "WCpad = np.pad(WC,((0,1),(0,1)),'constant',constant_values=0)\n",
    "PCpad = np.pad(PC,((0,1),(0,1)),'constant',constant_values=0)\n",
    "UUin = (UCpad[1:,:-1] + UCpad[:-1,:-1])/2\n",
    "UWUin = (UCpad[:-1,1:] + UCpad[:-1,:-1])/2\n",
    "UWWin = (WCpad[1:,:-1] + WCpad[:-1,:-1])/2\n",
    "UU = (1/dx)*(((UUin[1:,:])**2-(UUin[:-1,:]))**2)[:,1:]\n",
    "UW = (1/dz)*((((UWWin*UWUin)[:,1:])**2-((UWWin*UWUin)[:,:-1])**2))[1:,:]\n",
    "PU = (1/dx)*((PCpad[1:,:-1]-PCpad[:-1,:-1]))[1:,1:]\n",
    "VISUX = (nu/(dx*dx))*(UCpad[2:,:-1]-2*UCpad[1:-1,:-1]+UCpad[:-2,:-1])[:,1:]\n",
    "VISUZ = (nu/(dz*dz))*(UCpad[:-1,2:]-2*UCpad[:-1,1:-1]+UCpad[:-1,:-2])[1:,:]\n",
    "WWin = (WCpad[:-1,1:] + WCpad[:-1,:-1])/2\n",
    "WUUin = (UCpad[:-1,1:] + UCpad[:-1,:-1])/2\n",
    "WUWin = (WCpad[1:,:-1] + WCpad[:-1,:-1])/2\n",
    "WU = (1/dx)*((((UWWin*UWUin)[1:,:])**2-((UWWin*UWUin)[:-1,:])**2))[:,1:]\n",
    "WW = (1/dx)*(((WWin[:,1:])**2-(WWin[:,:-1]))**2)[1:,:]\n",
    "\n",
    "PW = (1/dz)*((PCpad[:-1,1:]-PCpad[:-1,:-1]))[1:,1:]\n",
    "VISWX = (nu/(dx*dx))*(WCpad[2:,:-1]-2*WCpad[1:-1,:-1]+WCpad[:-2,:-1])[:,1:]\n",
    "VISWZ = (nu/(dz*dz))*(WCpad[:-1,2:]-2*WCpad[:-1,1:-1]+WCpad[:-1,:-2])[1:,:]\n",
    "\n",
    "UC[1:,1:]  = UC[1:,1:] + dt*(-UU-UW-PU+VISUX+VISUZ)\n",
    "WC[1:,1:]  = WC[1:,1:] + dt*(-WW-WU-PW+VISWX+VISWZ-g)\n",
    "\n",
    "D = -(1/dx)*(UC[1:,1:]-UC[:-1,1:]) + (1/dz)*(WC[1:,1:]-WC[1:,:-1])\n",
    "beta = beta0/(2*dt*(1/(dx*dx) + 1/(dz*dz)))\n",
    "dP = beta*D\n",
    "dPpad = np.pad(dP,((0,1),(0,1)),'constant',constant_values=0)\n",
    "UC[1:,1:] = UC[1:,1:] - (dt/dx)*(dPpad[1:,:-1]-dPpad[:-1,:-1])\n",
    "WC[1:,1:] = WC[1:,1:] - (dt/dz)*(dPpad[:-1,1:]-dPpad[:-1,:-1])\n",
    "PC[1:,1:] = PC[1:,1:] + dP\n",
    "\n",
    "UC[TC]=-UC[TC[0],TC[1]+1] \n",
    "UC[TC]=0\n",
    "\n",
    "WC[TC]=-WC[TC[0]+1,TC[1]] \n",
    "WC[TC]=0\n",
    "MAXW = np.max(np.abs(WC))\n",
    "MAXU = np.max(np.abs(UC))\n",
    "dx_u = dx/MAXU\n",
    "dz_w = dz/MAXW\n",
    "newdt = min(0.7*dx_u,0.7*dz_w,dt)\n",
    "newdt = max(newdt,1e-8)\n",
    "print(newdt)\n",
    "# dPx.shape\n",
    "# UC.shape"
   ]
  },
  {
   "cell_type": "code",
   "execution_count": 30,
   "id": "a42d4cc9",
   "metadata": {},
   "outputs": [],
   "source": [
    "Unew,Wnew,Pnew,newdt = NS_solver(U,W,P,F,dt,dx,dz,nu,beta0=1.7,g=9.81,c_num=0.7)"
   ]
  },
  {
   "cell_type": "code",
   "execution_count": 31,
   "id": "acc99601",
   "metadata": {},
   "outputs": [
    {
     "data": {
      "text/plain": [
       "<matplotlib.colorbar.Colorbar at 0x2190301ac50>"
      ]
     },
     "execution_count": 31,
     "metadata": {},
     "output_type": "execute_result"
    },
    {
     "data": {
      "image/png": "[encoded data removed]",
      "text/plain": [
       "<Figure size 432x288 with 2 Axes>"
      ]
     },
     "metadata": {
      "needs_background": "light"
     },
     "output_type": "display_data"
    }
   ],
   "source": [
    "plt.imshow(Pnew.T,origin='lower')\n",
    "plt.colorbar(orientation='horizontal')\n"
   ]
  },
  {
   "cell_type": "code",
   "execution_count": 32,
   "id": "1d987c20",
   "metadata": {},
   "outputs": [],
   "source": [
    "T_list =[]"
   ]
  },
  {
   "cell_type": "code",
   "execution_count": 36,
   "id": "e1a65f0e",
   "metadata": {},
   "outputs": [
    {
     "name": "stderr",
     "output_type": "stream",
     "text": [
      "C:\\Users\\kim9y\\AppData\\Local\\Temp\\ipykernel_35004\\230166934.py:11: RuntimeWarning: overflow encountered in square\n",
      "  UU = (1/dx)*(((UUin[1:,:])**2-(UUin[:-1,:]))**2)[:,1:]\n",
      "C:\\Users\\kim9y\\AppData\\Local\\Temp\\ipykernel_35004\\230166934.py:12: RuntimeWarning: overflow encountered in square\n",
      "  UW = (1/dz)*((((UWWin*UWUin)[:,1:])**2-((UWWin*UWUin)[:,:-1])**2))[1:,:]\n",
      "C:\\Users\\kim9y\\AppData\\Local\\Temp\\ipykernel_35004\\230166934.py:12: RuntimeWarning: invalid value encountered in subtract\n",
      "  UW = (1/dz)*((((UWWin*UWUin)[:,1:])**2-((UWWin*UWUin)[:,:-1])**2))[1:,:]\n",
      "C:\\Users\\kim9y\\AppData\\Local\\Temp\\ipykernel_35004\\230166934.py:20: RuntimeWarning: overflow encountered in square\n",
      "  WU = (1/dx)*((((UWWin*UWUin)[1:,:])**2-((UWWin*UWUin)[:-1,:])**2))[:,1:]\n",
      "C:\\Users\\kim9y\\AppData\\Local\\Temp\\ipykernel_35004\\230166934.py:20: RuntimeWarning: invalid value encountered in subtract\n",
      "  WU = (1/dx)*((((UWWin*UWUin)[1:,:])**2-((UWWin*UWUin)[:-1,:])**2))[:,1:]\n",
      "C:\\Users\\kim9y\\AppData\\Local\\Temp\\ipykernel_35004\\230166934.py:21: RuntimeWarning: overflow encountered in square\n",
      "  WW = (1/dx)*(((WWin[:,1:])**2-(WWin[:,:-1]))**2)[1:,:]\n",
      "C:\\Users\\kim9y\\AppData\\Local\\Temp\\ipykernel_35004\\230166934.py:26: RuntimeWarning: invalid value encountered in subtract\n",
      "  UC[1:,1:]  = UC[1:,1:] + dt*(-UU-UW-PU+VISUX+VISUZ)\n",
      "C:\\Users\\kim9y\\AppData\\Local\\Temp\\ipykernel_35004\\230166934.py:29: RuntimeWarning: invalid value encountered in subtract\n",
      "  D = -(1/dx)*(UC[1:,1:]-UC[:-1,1:]) + (1/dz)*(WC[1:,1:]-WC[1:,:-1])\n",
      "C:\\Users\\kim9y\\AppData\\Local\\Temp\\ipykernel_35004\\230166934.py:29: RuntimeWarning: invalid value encountered in add\n",
      "  D = -(1/dx)*(UC[1:,1:]-UC[:-1,1:]) + (1/dz)*(WC[1:,1:]-WC[1:,:-1])\n"
     ]
    },
    {
     "data": {
      "text/plain": [
       "<matplotlib.colorbar.Colorbar at 0x219036a22f0>"
      ]
     },
     "execution_count": 36,
     "metadata": {},
     "output_type": "execute_result"
    },
    {
     "data": {
      "image/png": "[encoded data removed]",
      "text/plain": [
       "<Figure size 1080x360 with 6 Axes>"
      ]
     },
     "metadata": {
      "needs_background": "light"
     },
     "output_type": "display_data"
    }
   ],
   "source": [
    "for i in range(10):\n",
    "    T_list.append(newdt)\n",
    "    Unew,Wnew,Pnew, newdt = NS_solver(Unew,Wnew,Pnew,F,newdt,dx,dz,nu,1e-6,c_num=0.7)\n",
    "\n",
    "plt.figure(figsize=(15,5))\n",
    "plt.subplot(131)\n",
    "plt.imshow(Unew.T,origin='lower')\n",
    "plt.colorbar(orientation=\"horizontal\")\n",
    "plt.subplot(132)\n",
    "plt.imshow(Wnew.T,origin='lower')\n",
    "plt.colorbar(orientation=\"horizontal\")\n",
    "plt.subplot(133)\n",
    "plt.imshow(Pnew.T,origin='lower')\n",
    "plt.colorbar(orientation=\"horizontal\")"
   ]
  },
  {
   "cell_type": "code",
   "execution_count": 413,
   "id": "8fa0f8be",
   "metadata": {},
   "outputs": [
    {
     "data": {
      "text/plain": [
       "[<matplotlib.lines.Line2D at 0x164a3a09300>]"
      ]
     },
     "execution_count": 413,
     "metadata": {},
     "output_type": "execute_result"
    },
    {
     "data": {
      "image/png": "[encoded data removed]",
      "text/plain": [
       "<Figure size 432x288 with 1 Axes>"
      ]
     },
     "metadata": {
      "needs_background": "light"
     },
     "output_type": "display_data"
    }
   ],
   "source": [
    "plt.plot(T_list)"
   ]
  },
  {
   "cell_type": "code",
   "execution_count": null,
   "id": "ad550cc3",
   "metadata": {},
   "outputs": [],
   "source": []
  }
 ],
 "metadata": {
  "interpreter": {
   "hash": "21290bbfaef809b5729f03c25a69946f1e8195a209b2e095987c269e3dfe79ea"
  },
  "kernelspec": {
   "display_name": "Python 3 (ipykernel)",
   "language": "python",
   "name": "python3"
  },
  "language_info": {
   "codemirror_mode": {
    "name": "ipython",
    "version": 3
   },
   "file_extension": ".py",
   "mimetype": "text/x-python",
   "name": "python",
   "nbconvert_exporter": "python",
   "pygments_lexer": "ipython3",
   "version": "3.10.2"
  }
 },
 "nbformat": 4,
 "nbformat_minor": 5
}
