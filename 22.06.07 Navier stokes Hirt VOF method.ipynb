{
 "cells": [
  {
   "cell_type": "code",
   "execution_count": 1,
   "id": "8f6ea07f-f858-48a6-8479-316d0730e860",
   "metadata": {},
   "outputs": [],
   "source": [
    "import numpy as np\n",
    "import matplotlib.pyplot as plt"
   ]
  },
  {
   "cell_type": "code",
   "execution_count": 2,
   "id": "04c3b3ac-5e25-4dec-82a2-ee3ee2d8e706",
   "metadata": {},
   "outputs": [],
   "source": [
    "L_x = 100\n",
    "g = 9.81\n",
    "H = 100\n",
    "\n",
    "N_x = 301\n",
    "dx = L_x/(N_x - 1)\n",
    "dt = 0.002\n",
    "N_t = 50000\n",
    "err = 1e-4\n",
    "x = np.linspace(0,L_x,N_x)\n",
    "h = np.zeros(N_x)\n",
    "u = np.zeros(N_x)\n",
    "D = 100\n",
    "slope = lambda x: 0.7*(x>700)*(x-700)\n",
    "# slope = lambda x: 0.2*x\n",
    "\n",
    "b = slope(x)\n",
    "H = D - b\n",
    "b_ = np.zeros(N_x)\n",
    "# b = np.zeros(N_x)\n",
    "# h = 10*np.exp(-((x)**2/(2*(0.05E+3)**2)))\n",
    "h[int(1*N_x/16):int(2*N_x/8)] = 50\n",
    "nu = 0.01"
   ]
  },
  {
   "cell_type": "code",
   "execution_count": 3,
   "id": "4616dd39-a6aa-4493-acfb-d8087427248c",
   "metadata": {},
   "outputs": [
    {
     "data": {
      "image/png": "[encoded data removed]",
      "text/plain": [
       "<Figure size 432x288 with 1 Axes>"
      ]
     },
     "metadata": {
      "needs_background": "light"
     },
     "output_type": "display_data"
    },
    {
     "data": {
      "image/png": "[encoded data removed]",
      "text/plain": [
       "<Figure size 432x288 with 2 Axes>"
      ]
     },
     "metadata": {},
     "output_type": "display_data"
    }
   ],
   "source": [
    "h = np.ones(N_x)*0.5\n",
    "\n",
    "h[:300]= 2\n",
    "slope = lambda x,b,L: (x>=b)*(x-b)*(L/(L_x-b))\n",
    "dam  = lambda x,a,b,L: ((x>=a)&(x<=b))*L\n",
    "\n",
    "u = np.zeros(N_x)\n",
    "z = np.ones(N_x)*0.5\n",
    "s = slope(x,90,2)\n",
    "d = dam(x,20,30,3)\n",
    "z = z\n",
    "z_ = np.zeros(N_x)\n",
    "\n",
    "h = np.where(h>=z,h-z,0)\n",
    "plt.plot(h)\n",
    "plt.show()\n",
    "# z[150:200]=0\n",
    "fig, (axh,axu) = plt.subplots(2, 1,facecolor ='white')\n",
    "line_u,=axu.plot(x,u)\n",
    "line_h,=axh.plot(x,h+z)\n",
    "fill_=axh.fill_between(x,z,z_,color ='tab:orange')"
   ]
  },
  {
   "cell_type": "code",
   "execution_count": 91,
   "id": "525e380d-945d-4414-a44b-78c2948fbdef",
   "metadata": {},
   "outputs": [],
   "source": [
    "N_x = 99 # for Fx,and Px\n",
    "N_y = 49  # for Fy,and Py\n",
    "\n",
    "U_x = N_x + 2 \n",
    "U_y = N_y\n",
    "\n",
    "V_x = N_x\n",
    "V_y = N_y + 2\n",
    "\n",
    "L_x = 100\n",
    "L_y = 100\n",
    "\n",
    "# U = np.zeros((U_x,U_y+2)) # N_x+2, N_y    , N_x [0,last] =0,and if you N_y +2 for convinient, so -1, max+ 1 also 0 for BC\n",
    "# V = np.zeros((V_x+2,V_y)) # N_x  , N_y + 2, N_y [0,last] =0,and if you N_x +2 for convinient, so -1, max+ 1 also 0 for BC\n",
    "\n",
    "\n",
    "# x = np.linspace(0,L_x,U_x,endpoint=True) # contain the boundary, make the all area\n",
    "# y = np.linspace(0,L_y,V_y,endpoint=True) # contain the boundary, make the all area\n",
    "# X,Y = np.meshgrid(x,y,indexing='ij')\n",
    "\n"
   ]
  },
  {
   "cell_type": "code",
   "execution_count": 97,
   "id": "6d00a672",
   "metadata": {},
   "outputs": [
    {
     "data": {
      "text/plain": [
       "<matplotlib.image.AxesImage at 0x1d4016e0760>"
      ]
     },
     "execution_count": 97,
     "metadata": {},
     "output_type": "execute_result"
    },
    {
     "data": {
      "image/png": "[encoded data removed]",
      "text/plain": [
       "<Figure size 432x288 with 1 Axes>"
      ]
     },
     "metadata": {
      "needs_background": "light"
     },
     "output_type": "display_data"
    }
   ],
   "source": [
    "U = np.zeros((U_x,U_y+2)) # N_x+2, N_y    , N_x [0,last] =0,and if you N_y +2 for convinient, so -1, max+ 1 also 0 for BC\n",
    "V = np.zeros((V_x+2,V_y)) # N_x  , N_y + 2, N_y [0,last] =0,and if you N_x +2 for convinient, so -1, max+ 1 also 0 for BC\n",
    "\n",
    "\n",
    "x = np.linspace(0,L_x,U_x,endpoint=True) # contain the boundary, make the all area\n",
    "y = np.linspace(0,L_y,V_y,endpoint=True) # contain the boundary, make the all area\n",
    "X,Y = np.meshgrid(x,y,indexing='ij')\n",
    "dx, dy = L_x/(N_x+1), L_y/(N_y+1)\n",
    "slope = lambda x,b,L: (x>=b)*(x-b)*(L/(L_x-b))\n",
    "B_X = slope(X,10,20)\n",
    "# plt.plot(x,slope(x,0,20))\n",
    "height = lambda x,b,h1,h2: (x<=b)*(h1) + (x>b)*(h2)\n",
    "H_x = height(X,10,20,10)\n",
    "BC = np.where(((X==0)|(X == L_x)|(Y==0)|(Y==L_y)|(Y<=B_X)))\n",
    "HC = np.where((Y<=H_x))\n",
    "HC_not = np.where(~(Y<=H_x))\n",
    "\n",
    "# plt.imshow(x, height(x,10,10,20))\n",
    "plt.imshow(H_x.T,vmin=0, vmax= 100)\n"
   ]
  },
  {
   "cell_type": "code",
   "execution_count": 110,
   "id": "bb2188c0",
   "metadata": {},
   "outputs": [
    {
     "data": {
      "image/png": "[encoded data removed]",
      "text/plain": [
       "<Figure size 432x288 with 4 Axes>"
      ]
     },
     "metadata": {
      "needs_background": "light"
     },
     "output_type": "display_data"
    }
   ],
   "source": [
    "# set pressure by height\n",
    "\n",
    "F = np.zeros_like(U)\n",
    "F[BC] = 1\n",
    "F[HC] = 1\n",
    "# BC = np.where(Y<B_X)\n",
    "# U[BC] = 0\n",
    "plt.subplot(121)\n",
    "plt.imshow(F.T,extent=[0,L_x,0,L_y],origin='lower')\n",
    "plt.colorbar(orientation=\"horizontal\")\n",
    "# set pressure by height\n",
    "P = np.zeros_like(U)\n",
    "P[HC] = -g*dy\n",
    "P[BC] = 0\n",
    "for i in range(N_y-1,-1,-1):P[:,i-1]+=P[:,i]\n",
    "P[BC] = 0\n",
    "plt.subplot(122)\n",
    "plt.imshow(P.T,extent=[0,L_x,0,L_y],origin='lower')\n",
    "plt.colorbar(orientation=\"horizontal\")\n",
    "plt.tight_layout()"
   ]
  },
  {
   "cell_type": "code",
   "execution_count": null,
   "id": "161daf48",
   "metadata": {},
   "outputs": [],
   "source": [
    "def "
   ]
  },
  {
   "cell_type": "code",
   "execution_count": null,
   "id": "c66c3d83-0d1b-41dd-9479-75db5402ba49",
   "metadata": {},
   "outputs": [],
   "source": []
  }
 ],
 "metadata": {
  "interpreter": {
   "hash": "21290bbfaef809b5729f03c25a69946f1e8195a209b2e095987c269e3dfe79ea"
  },
  "kernelspec": {
   "display_name": "Python 3 (ipykernel)",
   "language": "python",
   "name": "python3"
  },
  "language_info": {
   "codemirror_mode": {
    "name": "ipython",
    "version": 3
   },
   "file_extension": ".py",
   "mimetype": "text/x-python",
   "name": "python",
   "nbconvert_exporter": "python",
   "pygments_lexer": "ipython3",
   "version": "3.9.6"
  }
 },
 "nbformat": 4,
 "nbformat_minor": 5
}
